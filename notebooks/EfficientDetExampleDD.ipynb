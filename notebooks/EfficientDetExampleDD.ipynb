{
 "cells": [
  {
   "cell_type": "markdown",
   "metadata": {
    "colab_type": "text",
    "id": "R86up5pWLR3d"
   },
   "source": [
    "# Creating a EfficientDet model using B0 backbone\n",
    "\n",
    "We first install the EfficientDet library"
   ]
  },
  {
   "cell_type": "code",
   "execution_count": 0,
   "metadata": {
    "colab": {},
    "colab_type": "code",
    "id": "L9z9s3hGc4Rx"
   },
   "outputs": [],
   "source": [
    "%load_ext autoreload\n",
    "%autoreload 2"
   ]
  },
  {
   "cell_type": "code",
   "execution_count": 0,
   "metadata": {
    "colab": {},
    "colab_type": "code",
    "id": "4MPAM7JwKF3w"
   },
   "outputs": [],
   "source": [
    "!git clone https://github.com/joheras/EfficientDet"
   ]
  },
  {
   "cell_type": "code",
   "execution_count": 0,
   "metadata": {
    "colab": {},
    "colab_type": "code",
    "id": "_I7JYjm_NhBk"
   },
   "outputs": [],
   "source": [
    "cd EfficientDet/"
   ]
  },
  {
   "cell_type": "code",
   "execution_count": 0,
   "metadata": {
    "colab": {},
    "colab_type": "code",
    "id": "DEWPadWOqzsF"
   },
   "outputs": [],
   "source": [
    "!pip install -r requirements.txt"
   ]
  },
  {
   "cell_type": "markdown",
   "metadata": {
    "colab_type": "text",
    "id": "Ym8clegBPQ-U"
   },
   "source": [
    "We load the necessary code and start the training process."
   ]
  },
  {
   "cell_type": "markdown",
   "metadata": {
    "colab_type": "text",
    "id": "lBnW-4sZloUe"
   },
   "source": [
    "We download the dataset. If you are working with Google Colab, you have several options to download the dataset in this notebook, see the available options in the LabelDetection documentation."
   ]
  },
  {
   "cell_type": "code",
   "execution_count": 0,
   "metadata": {
    "colab": {},
    "colab_type": "code",
    "id": "Q-brSukHlqe-"
   },
   "outputs": [],
   "source": []
  },
  {
   "cell_type": "code",
   "execution_count": 0,
   "metadata": {
    "colab": {},
    "colab_type": "code",
    "id": "PR3qlP95mAZS"
   },
   "outputs": [],
   "source": [
    "!unzip datasets.zip"
   ]
  },
  {
   "cell_type": "markdown",
   "metadata": {
    "colab_type": "text",
    "id": "snKZVW8EPS1T"
   },
   "source": [
    "We train the model.\n",
    "\n"
   ]
  },
  {
   "cell_type": "code",
   "execution_count": 0,
   "metadata": {
    "colab": {},
    "colab_type": "code",
    "id": "FETPwOYXNKGR"
   },
   "outputs": [],
   "source": [
    "!python3 train.py --snapshot imagenet --phi 0 --gpu 0 --random-transform --compute-val-loss --freeze-backbone --batch-size 4 --epochs 25 --steps 32 pascalCustom datasets/VOCdataset/"
   ]
  },
  {
   "cell_type": "code",
   "execution_count": 0,
   "metadata": {
    "colab": {},
    "colab_type": "code",
    "id": "puyGALhruLYr"
   },
   "outputs": [],
   "source": [
    "!python3 train.py --snapshot checkpoints/*/pascalCustom_25_*.h5 --phi 0 --gpu 0 --random-transform --compute-val-loss --freeze-bn --batch-size 4 --epochs 30 --steps 32 pascalCustom datasets/VOCdataset/"
   ]
  },
  {
   "cell_type": "markdown",
   "metadata": {
    "colab_type": "text",
    "id": "QSMv7WmwwWqr"
   },
   "source": [
    "The model was evaluated at the end of the previous execution."
   ]
  },
  {
   "cell_type": "code",
   "execution_count": 0,
   "metadata": {
    "colab": {},
    "colab_type": "code",
    "id": "vAzIJ6euw8cx"
   },
   "outputs": [],
   "source": [
    "!mv checkpoints/*/pascalCustom_30_*.h5 output.h5"
   ]
  },
  {
   "cell_type": "code",
   "execution_count": 0,
   "metadata": {
    "colab": {},
    "colab_type": "code",
    "id": "RmCPcrEjxCkk"
   },
   "outputs": [],
   "source": [
    "!rm -rf checkpoints/*"
   ]
  },
  {
   "cell_type": "markdown",
   "metadata": {
    "colab_type": "text",
    "id": "qMRa2ZhWQKXu"
   },
   "source": [
    "At the end you will have a file called model.h5 that together with the names file can be included in the application to be employed with new images. "
   ]
  },
  {
   "cell_type": "markdown",
   "metadata": {
    "colab_type": "text",
    "id": "MrIfv3N5Ob78"
   },
   "source": [
    "----------------------\n",
    "\n",
    "# Data distillation"
   ]
  },
  {
   "cell_type": "markdown",
   "metadata": {
    "colab_type": "text",
    "id": "PL9uqjaMITw7"
   },
   "source": [
    "We first install the library for ensemble methods."
   ]
  },
  {
   "cell_type": "code",
   "execution_count": 0,
   "metadata": {
    "colab": {},
    "colab_type": "code",
    "id": "NiSCHcV0le_9"
   },
   "outputs": [],
   "source": [
    "!git clone  https://github.com/ancasag/ensembleObjectDetection.git"
   ]
  },
  {
   "cell_type": "code",
   "execution_count": 0,
   "metadata": {
    "colab": {},
    "colab_type": "code",
    "id": "lMjNb4mKOg6e"
   },
   "outputs": [],
   "source": [
    "cd ensembleObjectDetection/TestTimeAugmentation"
   ]
  },
  {
   "cell_type": "markdown",
   "metadata": {
    "colab_type": "text",
    "id": "N-BUUEloIXBP"
   },
   "source": [
    "We install additional libraries that are required."
   ]
  },
  {
   "cell_type": "code",
   "execution_count": 0,
   "metadata": {
    "colab": {},
    "colab_type": "code",
    "id": "4CKivs9qOht3"
   },
   "outputs": [],
   "source": [
    "!pip install clodsa\n",
    "!pip install mrcnn\n",
    "!pip install keras-retinanet\n",
    "!pip install gluoncv\n",
    "!pip install mxnet"
   ]
  },
  {
   "cell_type": "markdown",
   "metadata": {
    "colab_type": "text",
    "id": "LdKAOsDKIcFm"
   },
   "source": [
    "The following cells apply data distillation."
   ]
  },
  {
   "cell_type": "code",
   "execution_count": 0,
   "metadata": {
    "colab": {},
    "colab_type": "code",
    "id": "VAfN4Ng4Orpr"
   },
   "outputs": [],
   "source": [
    "import testTimeAugmentation\n",
    "import function\n",
    "import os\n",
    "import shutil\n",
    "import argparse\n",
    "import ensembleOptions\n",
    "from mainTTA import tta\n",
    "from imutils import paths"
   ]
  },
  {
   "cell_type": "code",
   "execution_count": 0,
   "metadata": {
    "colab": {},
    "colab_type": "code",
    "id": "E8pXdirAOssr"
   },
   "outputs": [],
   "source": [
    "pathImg = '/content/EfficientDet/datasets/unlabelled/'"
   ]
  },
  {
   "cell_type": "code",
   "execution_count": 0,
   "metadata": {
    "colab": {},
    "colab_type": "code",
    "id": "n6D27rleOtq_"
   },
   "outputs": [],
   "source": [
    "effimodel = testTimeAugmentation.Efficient('/content/EfficientDet/output.h5', '/content/EfficientDet/datasets/VOCdataset/classes.csv')"
   ]
  },
  {
   "cell_type": "code",
   "execution_count": 0,
   "metadata": {
    "colab": {},
    "colab_type": "code",
    "id": "7eKe_aGWPIHS"
   },
   "outputs": [],
   "source": [
    "myTechniques = [ \"histo\",\"hflip\",\"none\"]"
   ]
  },
  {
   "cell_type": "code",
   "execution_count": 0,
   "metadata": {
    "colab": {},
    "colab_type": "code",
    "id": "b548hFOfPJHQ"
   },
   "outputs": [],
   "source": [
    "option = \"affirmative\""
   ]
  },
  {
   "cell_type": "code",
   "execution_count": 0,
   "metadata": {
    "colab": {},
    "colab_type": "code",
    "id": "ET0IE5K_PJm3"
   },
   "outputs": [],
   "source": [
    "tta(effimodel,myTechniques,pathImg,option)"
   ]
  },
  {
   "cell_type": "markdown",
   "metadata": {
    "colab_type": "text",
    "id": "mvGlIbAqImU4"
   },
   "source": [
    "Now, we reorganize the dataset."
   ]
  },
  {
   "cell_type": "code",
   "execution_count": 0,
   "metadata": {
    "colab": {},
    "colab_type": "code",
    "id": "2dVZvL-mTj_S"
   },
   "outputs": [],
   "source": [
    "!ls /content/EfficientDet/datasets/unlabelled/*.jpg >> /content/EfficientDet/datasets/VOCdataset/ImageSets/Main/train.txt"
   ]
  },
  {
   "cell_type": "code",
   "execution_count": 0,
   "metadata": {
    "colab": {},
    "colab_type": "code",
    "id": "7PqF1LrxPS7M"
   },
   "outputs": [],
   "source": [
    "!sed -i 's#/content/EfficientDet/datasets/unlabelled/##g' /content/EfficientDet/datasets/VOCdataset/ImageSets/Main/train.txt"
   ]
  },
  {
   "cell_type": "code",
   "execution_count": 0,
   "metadata": {
    "colab": {},
    "colab_type": "code",
    "id": "nYWRCFYoPdpY"
   },
   "outputs": [],
   "source": [
    "!sed -i 's#.jpg##g' /content/EfficientDet/datasets/VOCdataset/ImageSets/Main/train.txt"
   ]
  },
  {
   "cell_type": "code",
   "execution_count": 0,
   "metadata": {
    "colab": {},
    "colab_type": "code",
    "id": "Jjr1emC0Pgnn"
   },
   "outputs": [],
   "source": [
    "!mv /content/EfficientDet/datasets/unlabelled/*.jpg /content/EfficientDet/datasets/VOCdataset/JPEGImages/"
   ]
  },
  {
   "cell_type": "code",
   "execution_count": 0,
   "metadata": {
    "colab": {},
    "colab_type": "code",
    "id": "8UDRH8P1PmIO"
   },
   "outputs": [],
   "source": [
    "!mv /content/EfficientDet/datasets/unlabelled/*.xml /content/EfficientDet/datasets/VOCdataset/Annotations/"
   ]
  },
  {
   "cell_type": "code",
   "execution_count": 0,
   "metadata": {
    "colab": {},
    "colab_type": "code",
    "id": "TFUG-XDh4DrB"
   },
   "outputs": [],
   "source": [
    "cd /content/EfficientDet"
   ]
  },
  {
   "cell_type": "markdown",
   "metadata": {
    "colab_type": "text",
    "id": "rGpGnmRZIpco"
   },
   "source": [
    "Finally, we retrain the model and evaluate its performance. \n"
   ]
  },
  {
   "cell_type": "code",
   "execution_count": 0,
   "metadata": {
    "colab": {},
    "colab_type": "code",
    "id": "vqFoK-RnQLPF"
   },
   "outputs": [],
   "source": [
    "!python3 train.py --snapshot imagenet --phi 0 --gpu 0 --random-transform --compute-val-loss --freeze-backbone --batch-size 4 --epochs 25 --steps 32 pascalCustom datasets/VOCdataset/"
   ]
  },
  {
   "cell_type": "code",
   "execution_count": 0,
   "metadata": {
    "colab": {},
    "colab_type": "code",
    "id": "t9zPtr5cQlek"
   },
   "outputs": [],
   "source": [
    "!python3 train.py --snapshot checkpoints/*/pascalCustom_25_*.h5 --phi 0 --gpu 0 --random-transform --compute-val-loss --freeze-bn  --batch-size 4 --epochs 25 --steps 32 pascalCustom datasets/VOCdataset/"
   ]
  },
  {
   "cell_type": "code",
   "execution_count": 0,
   "metadata": {
    "colab": {},
    "colab_type": "code",
    "id": "L1J5ALDM2AOO"
   },
   "outputs": [],
   "source": [
    "!mv checkpoints/*/pascalCustom_30_*.h5 output.h5"
   ]
  },
  {
   "cell_type": "markdown",
   "metadata": {
    "colab_type": "text",
    "id": "KbLltnhxW2Ab"
   },
   "source": [
    "---------------------------------\n",
    "\n",
    "# Using the model in LabelDetection\n",
    "\n",
    "If you want to use the trained model with LabelDetection, you must download the following files:\n",
    "\n",
    "- EfficientDet/output.h5\n",
    "- EfficientDet/datasets/classes.names"
   ]
  }
 ],
 "metadata": {
  "accelerator": "GPU",
  "colab": {
   "collapsed_sections": [],
   "name": "Copia de EfficientDetExampleDD.ipynb",
   "provenance": []
  },
  "kernelspec": {
   "display_name": "Python 3",
   "language": "python",
   "name": "python3"
  },
  "language_info": {
   "codemirror_mode": {
    "name": "ipython",
    "version": 3
   },
   "file_extension": ".py",
   "mimetype": "text/x-python",
   "name": "python",
   "nbconvert_exporter": "python",
   "pygments_lexer": "ipython3",
   "version": "3.6.8"
  }
 },
 "nbformat": 4,
 "nbformat_minor": 1
}
