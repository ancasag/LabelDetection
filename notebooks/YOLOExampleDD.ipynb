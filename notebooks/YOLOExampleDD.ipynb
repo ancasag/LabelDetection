{
  "nbformat": 4,
  "nbformat_minor": 0,
  "metadata": {
    "accelerator": "GPU",
    "colab": {
      "name": "YOLODDBueno.ipynb",
      "provenance": [],
      "collapsed_sections": []
    },
    "kernelspec": {
      "display_name": "Python 3",
      "language": "python",
      "name": "python3"
    },
    "language_info": {
      "codemirror_mode": {
        "name": "ipython",
        "version": 3
      },
      "file_extension": ".py",
      "mimetype": "text/x-python",
      "name": "python",
      "nbconvert_exporter": "python",
      "pygments_lexer": "ipython3",
      "version": "3.6.7"
    }
  },
  "cells": [
    {
      "cell_type": "markdown",
      "metadata": {
        "colab_type": "text",
        "id": "TRa7cfdhBNB6"
      },
      "source": [
        "# Creating a YOLO model\n",
        "\n",
        "We first install the YOLO library"
      ]
    },
    {
      "cell_type": "code",
      "metadata": {
        "colab_type": "code",
        "id": "g-PSqx7fARiB",
        "colab": {}
      },
      "source": [
        "!git clone https://github.com/joheras/darknet-colab"
      ],
      "execution_count": 0,
      "outputs": []
    },
    {
      "cell_type": "code",
      "metadata": {
        "colab_type": "code",
        "id": "onJj-2S3BT7j",
        "colab": {}
      },
      "source": [
        "cd darknet-colab/"
      ],
      "execution_count": 0,
      "outputs": []
    },
    {
      "cell_type": "code",
      "metadata": {
        "colab_type": "code",
        "id": "u1ImjD0IBXDR",
        "colab": {}
      },
      "source": [
        "!make"
      ],
      "execution_count": 0,
      "outputs": []
    },
    {
      "cell_type": "code",
      "metadata": {
        "colab_type": "code",
        "id": "UqS0l2UjB1L-",
        "colab": {}
      },
      "source": [
        "!pip install matplotlib\n",
        "!pip install clodsa\n",
        "!pip install imutils\n",
        "!pip install shutil"
      ],
      "execution_count": 0,
      "outputs": []
    },
    {
      "cell_type": "markdown",
      "metadata": {
        "colab_type": "text",
        "id": "t4jOYZzUrYWZ"
      },
      "source": [
        "Now, we download the necessary files. The following files are employed for fine-tuning the network and configuring the dataset."
      ]
    },
    {
      "cell_type": "code",
      "metadata": {
        "colab_type": "code",
        "id": "ayihpQeHCX6H",
        "colab": {}
      },
      "source": [
        "!wget https://www.dropbox.com/s/0js92hbmkozgn46/funciones.py?dl=1 -O funciones.py\n",
        "!wget https://www.dropbox.com/s/k8tj95uc25x2u7d/pascal2yolo_1class.py?dl=1 -O pascal2yolo_1class.py\n",
        "!wget https://pjreddie.com/media/files/darknet53.conv.74 -O darknet53.conv.74\n",
        "!wget https://www.dropbox.com/s/5pkkrx82q9dd7ml/detect.py?dl=1 -O detect.py\n",
        "!wget https://www.dropbox.com/s/s5ogv96lxqxhr4v/generateXML.py?dl=1 -O generateXML.py"
      ],
      "execution_count": 0,
      "outputs": []
    },
    {
      "cell_type": "code",
      "metadata": {
        "colab_type": "code",
        "id": "cDai0KHt-Vnk",
        "colab": {}
      },
      "source": [
        "from funciones import *\n",
        "from pascal2yolo_1class import *\n",
        "from detect import *"
      ],
      "execution_count": 0,
      "outputs": []
    },
    {
      "cell_type": "markdown",
      "metadata": {
        "colab_type": "text",
        "id": "Y2WUCQioDRKu"
      },
      "source": [
        "We download the dataset. If you are working with Google Colab, you have several options to download the dataset in this notebook, see the available options in the [LabelDetection documentation](https://github.com/ancasag/LabelDetection)."
      ]
    },
    {
      "cell_type": "code",
      "metadata": {
        "colab_type": "code",
        "id": "cy1dqINwCsdZ",
        "colab": {}
      },
      "source": [
        "!cp /content/drive/My\\ Drive/datasets/dataset.zip dataset.zip\n",
        "!unzip dataset.zip"
      ],
      "execution_count": 0,
      "outputs": []
    },
    {
      "cell_type": "markdown",
      "metadata": {
        "colab_type": "text",
        "id": "QPdjcAfUDyZB"
      },
      "source": [
        "We start the training process."
      ]
    },
    {
      "cell_type": "code",
      "metadata": {
        "colab_type": "code",
        "id": "MGIQImThtYTg",
        "colab": {}
      },
      "source": [
        "!./darknet detector train dataset/classes.data dataset/train.cfg darknet53.conv.74 -dont_show"
      ],
      "execution_count": 0,
      "outputs": []
    },
    {
      "cell_type": "markdown",
      "metadata": {
        "colab_type": "text",
        "id": "KXyCul6TQ6U0"
      },
      "source": [
        "Finally, we evaluate the model to know its performance in an independent test set. "
      ]
    },
    {
      "cell_type": "code",
      "metadata": {
        "colab_type": "code",
        "id": "ffO49ns59RrN",
        "colab": {}
      },
      "source": [
        "!./darknet detector map dataset/classes.data dataset/test.cfg backup/train_final.weights -thresh 0.25"
      ],
      "execution_count": 0,
      "outputs": []
    },
    {
      "cell_type": "markdown",
      "metadata": {
        "colab_type": "text",
        "id": "52EmMnvfETPG"
      },
      "source": [
        "At the end you will have your model in the file pesos. Those weights can be included in the application to be employed with new images. \n",
        "\n",
        "\n",
        "## Data distillation\n",
        "\n",
        "After training a model with the annotated images, it is possible to apply a data distillation procedure to create a model using the unlabelled images. You can only apply this techique if there were unlabelled images in your dataset. \n",
        "\n"
      ]
    },
    {
      "cell_type": "markdown",
      "metadata": {
        "id": "xIVyBtN2N9e6",
        "colab_type": "text"
      },
      "source": [
        "We first install the library for ensemble methods."
      ]
    },
    {
      "cell_type": "code",
      "metadata": {
        "id": "650p4CQvN_yS",
        "colab_type": "code",
        "colab": {}
      },
      "source": [
        "!git clone https://github.com/ancasag/ensembleObjectDetection.git"
      ],
      "execution_count": 0,
      "outputs": []
    },
    {
      "cell_type": "code",
      "metadata": {
        "id": "hkA2roh9ODPT",
        "colab_type": "code",
        "colab": {}
      },
      "source": [
        "cd ensembleObjectDetection/TestTimeAugmentation"
      ],
      "execution_count": 0,
      "outputs": []
    },
    {
      "cell_type": "code",
      "metadata": {
        "id": "ci2OMkWXONhq",
        "colab_type": "code",
        "colab": {}
      },
      "source": [
        "!pip install mrcnn\n",
        "!pip install keras-retinanet\n",
        "!pip install gluoncv\n",
        "!pip install mxnet"
      ],
      "execution_count": 0,
      "outputs": []
    },
    {
      "cell_type": "code",
      "metadata": {
        "id": "qK7UPnzgOEID",
        "colab_type": "code",
        "colab": {}
      },
      "source": [
        "import testTimeAugmentation\n",
        "import function\n",
        "import os\n",
        "import shutil\n",
        "import argparse\n",
        "import ensembleOptions\n",
        "from mainTTA import tta\n",
        "from imutils import paths"
      ],
      "execution_count": 0,
      "outputs": []
    },
    {
      "cell_type": "code",
      "metadata": {
        "id": "-oX36h_JOe3S",
        "colab_type": "code",
        "colab": {}
      },
      "source": [
        "pathImg = '/content/darknet-colab/dataset/unlabelled/'"
      ],
      "execution_count": 0,
      "outputs": []
    },
    {
      "cell_type": "code",
      "metadata": {
        "id": "ULvvZoqcOknh",
        "colab_type": "code",
        "colab": {}
      },
      "source": [
        "yolo = testTimeAugmentation.DarknetYoloPred('/content/darknet-colab/backup/train_final.weights', '/content/darknet-colab/dataset/classes.names','/content/darknet-colab/dataset/train.cfg')"
      ],
      "execution_count": 0,
      "outputs": []
    },
    {
      "cell_type": "code",
      "metadata": {
        "id": "gHZT_AxOO7ox",
        "colab_type": "code",
        "colab": {}
      },
      "source": [
        "myTechniques = [ \"histo\",\"hflip\",\"none\"]"
      ],
      "execution_count": 0,
      "outputs": []
    },
    {
      "cell_type": "code",
      "metadata": {
        "id": "BejTEgflO9CJ",
        "colab_type": "code",
        "colab": {}
      },
      "source": [
        "option = \"affirmative\""
      ],
      "execution_count": 0,
      "outputs": []
    },
    {
      "cell_type": "code",
      "metadata": {
        "id": "wP24B-z8PCDR",
        "colab_type": "code",
        "colab": {}
      },
      "source": [
        "tta(yolo,myTechniques,pathImg,option)"
      ],
      "execution_count": 0,
      "outputs": []
    },
    {
      "cell_type": "markdown",
      "metadata": {
        "colab_type": "text",
        "id": "E-92U_ioEcE3"
      },
      "source": [
        "We convert the annotations of the new predictions to txt"
      ]
    },
    {
      "cell_type": "code",
      "metadata": {
        "id": "H3-S9KZ7SP4R",
        "colab_type": "code",
        "colab": {}
      },
      "source": [
        "cd /content/darknet-colab/"
      ],
      "execution_count": 0,
      "outputs": []
    },
    {
      "cell_type": "code",
      "metadata": {
        "colab_type": "code",
        "id": "GcHLIiz35uES",
        "colab": {}
      },
      "source": [
        "principal('/content/darknet-colab/dataset/unlabelled') "
      ],
      "execution_count": 0,
      "outputs": []
    },
    {
      "cell_type": "markdown",
      "metadata": {
        "colab_type": "text",
        "id": "6rPB7Qz16HnR"
      },
      "source": [
        "We move the jpg and txt to the train carpet"
      ]
    },
    {
      "cell_type": "code",
      "metadata": {
        "colab_type": "code",
        "id": "Dejljs_f6Mmq",
        "colab": {}
      },
      "source": [
        "moverTxt('/content/darknet-colab/dataset/unlabelled/', '/content/darknet-colab/dataset/train/labels/')\n",
        "moverImg('/content/darknet-colab/dataset/unlabelled/', '/content/darknet-colab/dataset/train/JPEGImages/')"
      ],
      "execution_count": 0,
      "outputs": []
    },
    {
      "cell_type": "code",
      "metadata": {
        "colab_type": "code",
        "id": "zclwa0uA9lJI",
        "colab": {}
      },
      "source": [
        "!./darknet detector train dataset/classes.data dataset/train.cfg darknet53.conv.74 -dont_show"
      ],
      "execution_count": 0,
      "outputs": []
    },
    {
      "cell_type": "code",
      "metadata": {
        "colab_type": "code",
        "id": "nsG2ybNqFyCs",
        "colab": {}
      },
      "source": [
        "!./darknet detector map dataset/classes.data dataset/test.cfg backup/train_final.weights -thresh 0.25"
      ],
      "execution_count": 0,
      "outputs": []
    },
    {
      "cell_type": "markdown",
      "metadata": {
        "id": "s4xoETJHSa_g",
        "colab_type": "text"
      },
      "source": [
        "---------------------------\n",
        "\n",
        "\n",
        "# Using the model in LabelDetection\n",
        "\n",
        "If you want to use the trained model with LabelDetection, you must download the following files:\n",
        "\n",
        "- /content/darknet-colab/backup/train_final.weights\n",
        "- /content/darknet-colab/dataset/train.cfg\n",
        "- /content/darknet-colab/dataset/classes.names"
      ]
    }
  ]
}