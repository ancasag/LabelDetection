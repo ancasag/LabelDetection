{
 "cells": [
  {
   "cell_type": "markdown",
   "metadata": {
    "colab_type": "text",
    "id": "R86up5pWLR3d"
   },
   "source": [
    "# Creating a Retinanet model\n",
    "\n",
    "We first install the Retinanet library"
   ]
  },
  {
   "cell_type": "code",
   "execution_count": 0,
   "metadata": {
    "colab": {},
    "colab_type": "code",
    "id": "4MPAM7JwKF3w"
   },
   "outputs": [],
   "source": [
    "!git clone https://github.com/fizyr/keras-retinanet"
   ]
  },
  {
   "cell_type": "code",
   "execution_count": 0,
   "metadata": {
    "colab": {},
    "colab_type": "code",
    "id": "uFBrURl8LpBI"
   },
   "outputs": [],
   "source": [
    "cd keras-retinanet"
   ]
  },
  {
   "cell_type": "code",
   "execution_count": 0,
   "metadata": {
    "colab": {},
    "colab_type": "code",
    "id": "YhmXJ8Lh0Hsv"
   },
   "outputs": [],
   "source": [
    "!pip install keras==2.3.0"
   ]
  },
  {
   "cell_type": "code",
   "execution_count": 0,
   "metadata": {
    "colab": {},
    "colab_type": "code",
    "id": "ZFoMnKwnLunB"
   },
   "outputs": [],
   "source": [
    "!pip install . --user\n",
    "!python setup.py build_ext --inplace"
   ]
  },
  {
   "cell_type": "code",
   "execution_count": 0,
   "metadata": {
    "colab": {},
    "colab_type": "code",
    "id": "c37uXb1bLvIo"
   },
   "outputs": [],
   "source": [
    "import os\n",
    "os.kill(os.getpid(), 9)"
   ]
  },
  {
   "cell_type": "markdown",
   "metadata": {
    "colab_type": "text",
    "id": "DP0ukRa8NEEa"
   },
   "source": [
    "Now, we download the necessary files. The following files are employed for fine-tuning the network and configuring the dataset."
   ]
  },
  {
   "cell_type": "code",
   "execution_count": 0,
   "metadata": {
    "colab": {},
    "colab_type": "code",
    "id": "Rehtlr-5Lxb5"
   },
   "outputs": [],
   "source": [
    "!wget https://www.dropbox.com/s/acio8y3sen0vhqk/build_dataset.py?dl=1 -O build_dataset.py\n",
    "!wget https://www.dropbox.com/s/roqdmqhgljxaaqe/resnet50_coco_best_v2.1.0.h5?dl=1 -O resnet50_coco_best_v2.1.0.h5"
   ]
  },
  {
   "cell_type": "markdown",
   "metadata": {
    "colab_type": "text",
    "id": "RtLKj4XMyE3y"
   },
   "source": [
    "We download the dataset. If you are working with Google Colab, you have several options to download the dataset in this notebook, see the available options in the [LabelDetection documentation](https://github.com/ancasag/LabelDetection)."
   ]
  },
  {
   "cell_type": "code",
   "execution_count": 0,
   "metadata": {
    "colab": {},
    "colab_type": "code",
    "id": "gH466Wl7yGks"
   },
   "outputs": [],
   "source": [
    "\n",
    "!unzip dataset.zip"
   ]
  },
  {
   "cell_type": "markdown",
   "metadata": {
    "colab_type": "text",
    "id": "AUYBA-lkvIqZ"
   },
   "source": [
    "We configure the dataset"
   ]
  },
  {
   "cell_type": "code",
   "execution_count": 0,
   "metadata": {
    "colab": {},
    "colab_type": "code",
    "id": "buTMiuC1vIBC"
   },
   "outputs": [],
   "source": [
    "!python build_dataset.py"
   ]
  },
  {
   "cell_type": "markdown",
   "metadata": {
    "colab_type": "text",
    "id": "Ym8clegBPQ-U"
   },
   "source": [
    "We start the training process."
   ]
  },
  {
   "cell_type": "code",
   "execution_count": 0,
   "metadata": {
    "colab": {},
    "colab_type": "code",
    "id": "FETPwOYXNKGR"
   },
   "outputs": [],
   "source": [
    "!python keras-retinanet/keras_retinanet/bin/train.py --batch-size 2 --steps numImgAnot --epochs 20 --weights resnet50_coco_best_v2.1.0.h5 --snapshot-path snapshots csv dataset/retinanet_train.csv dataset/retinanet_classes.csv"
   ]
  },
  {
   "cell_type": "markdown",
   "metadata": {
    "colab_type": "text",
    "id": "9pbWmbFTQZXx"
   },
   "source": [
    "Now, we convert the trained model to use it for making predictions."
   ]
  },
  {
   "cell_type": "code",
   "execution_count": 0,
   "metadata": {
    "colab": {},
    "colab_type": "code",
    "id": "kYDAU049Qvs0"
   },
   "outputs": [],
   "source": [
    "!python keras-retinanet/keras_retinanet/bin/convert_model.py snapshots/resnet50_csv_20.h5 output.h5"
   ]
  },
  {
   "cell_type": "markdown",
   "metadata": {
    "colab_type": "text",
    "id": "KXyCul6TQ6U0"
   },
   "source": [
    "Finally, we evaluate the model to know its performance in an independent test set. "
   ]
  },
  {
   "cell_type": "code",
   "execution_count": 0,
   "metadata": {
    "colab": {},
    "colab_type": "code",
    "id": "ZRZ5nmKqQ-R0"
   },
   "outputs": [],
   "source": [
    "!python keras-retinanet/keras_retinanet/bin/evaluate.py csv dataset/retinanet_test.csv dataset/classes.csv output.h5"
   ]
  },
  {
   "cell_type": "code",
   "execution_count": 0,
   "metadata": {
    "colab": {},
    "colab_type": "code",
    "id": "hEELHssoa388"
   },
   "outputs": [],
   "source": [
    "!rm -rf snapshots/resnet50_csv_0*\n",
    "!rm -rf snapshots/resnet50_csv_1*"
   ]
  },
  {
   "cell_type": "markdown",
   "metadata": {
    "colab_type": "text",
    "id": "qMRa2ZhWQKXu"
   },
   "source": [
    "At the end you will have your model in the file output.h5. Those weights can be included in the application to be employed with new images. \n",
    "\n",
    "------------------------------------\n",
    "\n",
    "\n",
    "## Data distillation\n",
    "\n",
    "After training a model with the annotated images, it is possible to apply a data distillation procedure to create a model using the unlabelled images. You can only apply this techique if there were unlabelled images in your dataset. \n"
   ]
  },
  {
   "cell_type": "code",
   "execution_count": 0,
   "metadata": {
    "colab": {},
    "colab_type": "code",
    "id": "CDUrnx3qPQ_X"
   },
   "outputs": [],
   "source": [
    "!git clone https://github.com/ancasag/ensembleObjectDetection.git"
   ]
  },
  {
   "cell_type": "code",
   "execution_count": 0,
   "metadata": {
    "colab": {},
    "colab_type": "code",
    "id": "QD2-XTgoT-3R"
   },
   "outputs": [],
   "source": [
    "cd /content/ensembleObjectDetection/TestTimeAugmentation"
   ]
  },
  {
   "cell_type": "code",
   "execution_count": 0,
   "metadata": {
    "colab": {},
    "colab_type": "code",
    "id": "G7GIDwvIUAqf"
   },
   "outputs": [],
   "source": [
    "!pip install clodsa\n",
    "!pip install gluoncv\n",
    "!pip install mxnet\n",
    "!pip install mrcnn"
   ]
  },
  {
   "cell_type": "code",
   "execution_count": 0,
   "metadata": {
    "colab": {},
    "colab_type": "code",
    "id": "7wgHGSIsXXYg"
   },
   "outputs": [],
   "source": [
    "import os\n",
    "os.kill(os.getpid(), 9)"
   ]
  },
  {
   "cell_type": "code",
   "execution_count": null,
   "metadata": {},
   "outputs": [],
   "source": [
    "cd /content/ensembleObjectDetection/TestTimeAugmentation"
   ]
  },
  {
   "cell_type": "code",
   "execution_count": 0,
   "metadata": {
    "colab": {},
    "colab_type": "code",
    "id": "Xdicpo5ZUMrW"
   },
   "outputs": [],
   "source": [
    "import testTimeAugmentation\n",
    "import function\n",
    "import os\n",
    "import shutil\n",
    "import argparse\n",
    "import ensembleOptions\n",
    "from mainTTA import tta\n",
    "from imutils import paths"
   ]
  },
  {
   "cell_type": "code",
   "execution_count": 0,
   "metadata": {
    "colab": {},
    "colab_type": "code",
    "id": "c3DioaTEUPw2"
   },
   "outputs": [],
   "source": [
    "pathImg = '/content/dataset/unlabelled/'"
   ]
  },
  {
   "cell_type": "code",
   "execution_count": 0,
   "metadata": {
    "colab": {},
    "colab_type": "code",
    "id": "WJJLbS8tVfyQ"
   },
   "outputs": [],
   "source": [
    "retinaResnet50 = testTimeAugmentation.RetinaNetResnet50Pred('/content/output.h5', '/content/dataset/classes.csv')"
   ]
  },
  {
   "cell_type": "code",
   "execution_count": 0,
   "metadata": {
    "colab": {},
    "colab_type": "code",
    "id": "InTXEu4uWB9U"
   },
   "outputs": [],
   "source": [
    "myTechniques = [ \"histo\",\"hflip\",\"none\"]"
   ]
  },
  {
   "cell_type": "code",
   "execution_count": 0,
   "metadata": {
    "colab": {},
    "colab_type": "code",
    "id": "-f-MwO0uWcfi"
   },
   "outputs": [],
   "source": [
    "option = \"consensus\"\n"
   ]
  },
  {
   "cell_type": "code",
   "execution_count": 0,
   "metadata": {
    "colab": {},
    "colab_type": "code",
    "id": "WgEtz3snWiDi"
   },
   "outputs": [],
   "source": [
    "tta(retinaResnet50,myTechniques,pathImg,option)"
   ]
  },
  {
   "cell_type": "code",
   "execution_count": 0,
   "metadata": {
    "colab": {},
    "colab_type": "code",
    "id": "ZGOFOjrNXBoB"
   },
   "outputs": [],
   "source": [
    "cd /content"
   ]
  },
  {
   "cell_type": "code",
   "execution_count": 0,
   "metadata": {
    "colab": {},
    "colab_type": "code",
    "id": "pZelMCNaYP1R"
   },
   "outputs": [],
   "source": [
    "!ls /content/dataset/unlabelled/*.jpg >> /content/dataset/train.txt"
   ]
  },
  {
   "cell_type": "code",
   "execution_count": 0,
   "metadata": {
    "colab": {},
    "colab_type": "code",
    "id": "vP5T3gDdbmcA"
   },
   "outputs": [],
   "source": [
    "!sed -i 's#/content/dataset/unlabelled/##g' /content/dataset/train.txt"
   ]
  },
  {
   "cell_type": "code",
   "execution_count": 0,
   "metadata": {
    "colab": {},
    "colab_type": "code",
    "id": "CuIePY2EcWgj"
   },
   "outputs": [],
   "source": [
    "!sed -i 's#.jpg##g' /content/dataset/train.txt"
   ]
  },
  {
   "cell_type": "code",
   "execution_count": 0,
   "metadata": {
    "colab": {},
    "colab_type": "code",
    "id": "EH5nyK3kcbwS"
   },
   "outputs": [],
   "source": [
    "!mv /content/dataset/unlabelled/*.jpg /content/dataset/images/"
   ]
  },
  {
   "cell_type": "code",
   "execution_count": 0,
   "metadata": {
    "colab": {},
    "colab_type": "code",
    "id": "e0I5HAt-cm5q"
   },
   "outputs": [],
   "source": [
    "!mv /content/dataset/unlabelled/*.xml /content/dataset/annotations/"
   ]
  },
  {
   "cell_type": "code",
   "execution_count": 0,
   "metadata": {
    "colab": {},
    "colab_type": "code",
    "id": "hAuk5mF6c3UA"
   },
   "outputs": [],
   "source": [
    "!python build_dataset.py"
   ]
  },
  {
   "cell_type": "code",
   "execution_count": 0,
   "metadata": {
    "colab": {},
    "colab_type": "code",
    "id": "nLiIJ_91c_Sf"
   },
   "outputs": [],
   "source": [
    "!python keras-retinanet/keras_retinanet/bin/train.py --batch-size 2 --steps numImg --epochs 20 --weights snapshots/resnet50_csv_20.h5 --snapshot-path snapshotsDD csv dataset/retinanet_train.csv dataset/retinanet_classes.csv"
   ]
  },
  {
   "cell_type": "code",
   "execution_count": 0,
   "metadata": {
    "colab": {},
    "colab_type": "code",
    "id": "M0eSL-KndG6O"
   },
   "outputs": [],
   "source": [
    "!python keras-retinanet/keras_retinanet/bin/convert_model.py snapshotsDD/resnet50_csv_20.h5 outputDD.h5"
   ]
  },
  {
   "cell_type": "code",
   "execution_count": 0,
   "metadata": {
    "colab": {},
    "colab_type": "code",
    "id": "iAw1T1oFdLmm"
   },
   "outputs": [],
   "source": [
    "!python keras-retinanet/keras_retinanet/bin/evaluate.py csv dataset/retinanet_test.csv dataset/classes.csv outputDD.h5"
   ]
  },
  {
   "cell_type": "markdown",
   "metadata": {
    "colab_type": "text",
    "id": "R86up5pWLR3d"
   },
   "source": [
    "# Using the model in LabelDetection\n",
    "\n",
    "If you want to use the trained model with LabelDetection, you must download the following files:\n",
    "- dataset/classes.csv\n",
    "- outputDD.h5"
   ]
  }
 ],
 "metadata": {
  "accelerator": "GPU",
  "colab": {
   "collapsed_sections": [],
   "name": "Copia de RetinanetExampleEvaluationDataDistillation.ipynb",
   "provenance": [],
   "toc_visible": true
  },
  "kernelspec": {
   "display_name": "Python 3",
   "language": "python",
   "name": "python3"
  },
  "language_info": {
   "codemirror_mode": {
    "name": "ipython",
    "version": 3
   },
   "file_extension": ".py",
   "mimetype": "text/x-python",
   "name": "python",
   "nbconvert_exporter": "python",
   "pygments_lexer": "ipython3",
   "version": "3.6.8"
  }
 },
 "nbformat": 4,
 "nbformat_minor": 1
}
