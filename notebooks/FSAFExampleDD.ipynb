{
  "nbformat": 4,
  "nbformat_minor": 0,
  "metadata": {
    "colab": {
      "name": "Copia de FSAFExampleDD.ipynb",
      "provenance": [],
      "collapsed_sections": []
    },
    "kernelspec": {
      "name": "python3",
      "display_name": "Python 3"
    },
    "accelerator": "GPU"
  },
  "cells": [
    {
      "cell_type": "markdown",
      "metadata": {
        "id": "R86up5pWLR3d",
        "colab_type": "text"
      },
      "source": [
        "# Creating a FSAF model using Resnet-50\n",
        "\n",
        "We first install the FSAF library"
      ]
    },
    {
      "cell_type": "code",
      "metadata": {
        "id": "L9z9s3hGc4Rx",
        "colab_type": "code",
        "colab": {}
      },
      "source": [
        "%load_ext autoreload\n",
        "%autoreload 2"
      ],
      "execution_count": 0,
      "outputs": []
    },
    {
      "cell_type": "code",
      "metadata": {
        "id": "4MPAM7JwKF3w",
        "colab_type": "code",
        "colab": {}
      },
      "source": [
        "!git clone https://github.com/joheras/FSAF"
      ],
      "execution_count": 0,
      "outputs": []
    },
    {
      "cell_type": "code",
      "metadata": {
        "id": "_I7JYjm_NhBk",
        "colab_type": "code",
        "colab": {}
      },
      "source": [
        "cd FSAF/"
      ],
      "execution_count": 0,
      "outputs": []
    },
    {
      "cell_type": "code",
      "metadata": {
        "id": "DEWPadWOqzsF",
        "colab_type": "code",
        "colab": {}
      },
      "source": [
        "!pip install -r requirements.txt"
      ],
      "execution_count": 0,
      "outputs": []
    },
    {
      "cell_type": "markdown",
      "metadata": {
        "id": "Ym8clegBPQ-U",
        "colab_type": "text"
      },
      "source": [
        "We load the necessary code and start the training process."
      ]
    },
    {
      "cell_type": "markdown",
      "metadata": {
        "id": "lBnW-4sZloUe",
        "colab_type": "text"
      },
      "source": [
        "We download the dataset. If you are working with Google Colab, you have several options to download the dataset in this notebook, see the available options in the LabelDetection documentation."
      ]
    },
    {
      "cell_type": "code",
      "metadata": {
        "id": "Q-brSukHlqe-",
        "colab_type": "code",
        "colab": {}
      },
      "source": [
        "!wget https://www.dropbox.com/s/48i41x9wmkohb83/datasets-fruit-news.zip?dl=0 -O datasets.zip"
      ],
      "execution_count": 0,
      "outputs": []
    },
    {
      "cell_type": "code",
      "metadata": {
        "id": "PR3qlP95mAZS",
        "colab_type": "code",
        "colab": {}
      },
      "source": [
        "!unzip datasets.zip"
      ],
      "execution_count": 0,
      "outputs": []
    },
    {
      "cell_type": "markdown",
      "metadata": {
        "id": "snKZVW8EPS1T",
        "colab_type": "text"
      },
      "source": [
        "We train the model.\n"
      ]
    },
    {
      "cell_type": "code",
      "metadata": {
        "id": "FETPwOYXNKGR",
        "colab_type": "code",
        "colab": {}
      },
      "source": [
        "!python3 train.py --backbone resnet50 --gpu 0 --batch-size 4 --epochs 25 --steps 32 pascalCustom datasets/VOCdataset"
      ],
      "execution_count": 0,
      "outputs": []
    },
    {
      "cell_type": "markdown",
      "metadata": {
        "id": "QSMv7WmwwWqr",
        "colab_type": "text"
      },
      "source": [
        "The model was evaluated at the end of the previous execution."
      ]
    },
    {
      "cell_type": "code",
      "metadata": {
        "id": "vAzIJ6euw8cx",
        "colab_type": "code",
        "colab": {}
      },
      "source": [
        "!mv snapshots/*/resnet50_pascalCustom_25.h5 output.h5"
      ],
      "execution_count": 0,
      "outputs": []
    },
    {
      "cell_type": "code",
      "metadata": {
        "id": "RmCPcrEjxCkk",
        "colab_type": "code",
        "colab": {}
      },
      "source": [
        "!rm -rf snapshots/*"
      ],
      "execution_count": 0,
      "outputs": []
    },
    {
      "cell_type": "markdown",
      "metadata": {
        "id": "qMRa2ZhWQKXu",
        "colab_type": "text"
      },
      "source": [
        "At the end you will have a file called output.h5 that together with the names file can be included in the application to be employed with new images. "
      ]
    },
    {
      "cell_type": "markdown",
      "metadata": {
        "id": "MrIfv3N5Ob78",
        "colab_type": "text"
      },
      "source": [
        "----------------------\n",
        "\n",
        "# Data distillation"
      ]
    },
    {
      "cell_type": "markdown",
      "metadata": {
        "id": "PL9uqjaMITw7",
        "colab_type": "text"
      },
      "source": [
        "We first install the library for ensemble methods."
      ]
    },
    {
      "cell_type": "code",
      "metadata": {
        "id": "NiSCHcV0le_9",
        "colab_type": "code",
        "colab": {}
      },
      "source": [
        "!git clone --recurse-submodules https://github.com/ancasag/ensembleObjectDetection.git"
      ],
      "execution_count": 0,
      "outputs": []
    },
    {
      "cell_type": "code",
      "metadata": {
        "id": "lMjNb4mKOg6e",
        "colab_type": "code",
        "colab": {}
      },
      "source": [
        "cd ensembleObjectDetection/TestTimeAugmentation"
      ],
      "execution_count": 0,
      "outputs": []
    },
    {
      "cell_type": "markdown",
      "metadata": {
        "id": "N-BUUEloIXBP",
        "colab_type": "text"
      },
      "source": [
        "We install additional libraries that are required."
      ]
    },
    {
      "cell_type": "code",
      "metadata": {
        "id": "4CKivs9qOht3",
        "colab_type": "code",
        "colab": {}
      },
      "source": [
        "!pip install clodsa\n",
        "!pip install mrcnn\n",
        "!pip install keras-retinanet\n",
        "!pip install gluoncv\n",
        "!pip install mxnet"
      ],
      "execution_count": 0,
      "outputs": []
    },
    {
      "cell_type": "markdown",
      "metadata": {
        "id": "LdKAOsDKIcFm",
        "colab_type": "text"
      },
      "source": [
        "The following cells apply data distillation."
      ]
    },
    {
      "cell_type": "code",
      "metadata": {
        "id": "VAfN4Ng4Orpr",
        "colab_type": "code",
        "colab": {}
      },
      "source": [
        "import testTimeAugmentation\n",
        "import function\n",
        "import os\n",
        "import shutil\n",
        "import argparse\n",
        "import ensembleOptions\n",
        "from mainTTA import tta\n",
        "from imutils import paths"
      ],
      "execution_count": 0,
      "outputs": []
    },
    {
      "cell_type": "code",
      "metadata": {
        "id": "E8pXdirAOssr",
        "colab_type": "code",
        "colab": {}
      },
      "source": [
        "pathImg = '/content/FSAF/datasets/unlabelled/'"
      ],
      "execution_count": 0,
      "outputs": []
    },
    {
      "cell_type": "code",
      "metadata": {
        "id": "n6D27rleOtq_",
        "colab_type": "code",
        "colab": {}
      },
      "source": [
        "fsaf = testTimeAugmentation.FSAF('/content/FSAF/output.h5', '/content/FSAF/datasets/VOCdataset/classes.csv')"
      ],
      "execution_count": 0,
      "outputs": []
    },
    {
      "cell_type": "code",
      "metadata": {
        "id": "7eKe_aGWPIHS",
        "colab_type": "code",
        "colab": {}
      },
      "source": [
        "myTechniques = [ \"histo\",\"hflip\",\"none\"]"
      ],
      "execution_count": 0,
      "outputs": []
    },
    {
      "cell_type": "code",
      "metadata": {
        "id": "b548hFOfPJHQ",
        "colab_type": "code",
        "colab": {}
      },
      "source": [
        "option = \"affirmative\""
      ],
      "execution_count": 0,
      "outputs": []
    },
    {
      "cell_type": "code",
      "metadata": {
        "id": "ET0IE5K_PJm3",
        "colab_type": "code",
        "colab": {}
      },
      "source": [
        "tta(fsaf,myTechniques,pathImg,option)"
      ],
      "execution_count": 0,
      "outputs": []
    },
    {
      "cell_type": "markdown",
      "metadata": {
        "id": "mvGlIbAqImU4",
        "colab_type": "text"
      },
      "source": [
        "Now, we reorganize the dataset."
      ]
    },
    {
      "cell_type": "code",
      "metadata": {
        "colab_type": "code",
        "id": "2dVZvL-mTj_S",
        "colab": {}
      },
      "source": [
        "!ls /content/FSAF/datasets/unlabelled/*.jpg >> /content/FSAF/datasets/VOCdataset/ImageSets/Main/train.txt"
      ],
      "execution_count": 0,
      "outputs": []
    },
    {
      "cell_type": "code",
      "metadata": {
        "id": "7PqF1LrxPS7M",
        "colab_type": "code",
        "colab": {}
      },
      "source": [
        "!sed -i 's#/content/FSAF/datasets/unlabelled/##g' /content/FSAF/datasets/VOCdataset/ImageSets/Main/train.txt"
      ],
      "execution_count": 0,
      "outputs": []
    },
    {
      "cell_type": "code",
      "metadata": {
        "id": "nYWRCFYoPdpY",
        "colab_type": "code",
        "colab": {}
      },
      "source": [
        "!sed -i 's#.jpg##g' /content/FSAF/datasets/VOCdataset/ImageSets/Main/train.txt"
      ],
      "execution_count": 0,
      "outputs": []
    },
    {
      "cell_type": "code",
      "metadata": {
        "id": "Jjr1emC0Pgnn",
        "colab_type": "code",
        "colab": {}
      },
      "source": [
        "!mv /content/FSAF/datasets/unlabelled/*.jpg /content/FSAF/datasets/VOCdataset/JPEGImages/"
      ],
      "execution_count": 0,
      "outputs": []
    },
    {
      "cell_type": "code",
      "metadata": {
        "id": "8UDRH8P1PmIO",
        "colab_type": "code",
        "colab": {}
      },
      "source": [
        "!mv /content/FSAF/datasets/salida/output/*.xml /content/FSAF/datasets/VOCdataset/Annotations/"
      ],
      "execution_count": 0,
      "outputs": []
    },
    {
      "cell_type": "code",
      "metadata": {
        "id": "TFUG-XDh4DrB",
        "colab_type": "code",
        "colab": {}
      },
      "source": [
        "cd /content/FSAF/"
      ],
      "execution_count": 0,
      "outputs": []
    },
    {
      "cell_type": "markdown",
      "metadata": {
        "id": "rGpGnmRZIpco",
        "colab_type": "text"
      },
      "source": [
        "Finally, we retrain the model and evaluate its performance. \n"
      ]
    },
    {
      "cell_type": "code",
      "metadata": {
        "colab_type": "code",
        "id": "Bw77T6FzOxGI",
        "colab": {}
      },
      "source": [
        "!python3 train.py --backbone resnet50 --gpu 0 --batch-size 4 --epochs 25 --steps 32 pascalCustom datasets/VOCdataset"
      ],
      "execution_count": 0,
      "outputs": []
    },
    {
      "cell_type": "code",
      "metadata": {
        "id": "L1J5ALDM2AOO",
        "colab_type": "code",
        "colab": {}
      },
      "source": [
        "!mv snapshots/*/resnet50_pascalCustom_25.h5 output.h5"
      ],
      "execution_count": 0,
      "outputs": []
    },
    {
      "cell_type": "markdown",
      "metadata": {
        "id": "TEgN6PwG3LzU",
        "colab_type": "text"
      },
      "source": [
        "---------------------------------\n",
        "\n",
        "# Using the model in LabelDetection\n",
        "\n",
        "If you want to use the trained model with LabelDetection, you must download the following files:\n",
        "\n",
        "- FSAF/output.h5\n",
        "- FSAF/datasets/classes.names"
      ]
    }
  ]
}