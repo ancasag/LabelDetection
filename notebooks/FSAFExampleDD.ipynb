{
 "cells": [
  {
   "cell_type": "markdown",
   "metadata": {
    "colab_type": "text",
    "id": "R86up5pWLR3d"
   },
   "source": [
    "# Creating a FSAF model using Resnet-50\n",
    "\n",
    "We first install the FSAF library"
   ]
  },
  {
   "cell_type": "code",
   "execution_count": 0,
   "metadata": {
    "colab": {},
    "colab_type": "code",
    "id": "L9z9s3hGc4Rx"
   },
   "outputs": [],
   "source": [
    "%load_ext autoreload\n",
    "%autoreload 2"
   ]
  },
  {
   "cell_type": "code",
   "execution_count": 0,
   "metadata": {
    "colab": {},
    "colab_type": "code",
    "id": "4MPAM7JwKF3w"
   },
   "outputs": [],
   "source": [
    "!git clone https://github.com/joheras/FSAF"
   ]
  },
  {
   "cell_type": "code",
   "execution_count": 0,
   "metadata": {
    "colab": {},
    "colab_type": "code",
    "id": "_I7JYjm_NhBk"
   },
   "outputs": [],
   "source": [
    "cd FSAF/"
   ]
  },
  {
   "cell_type": "code",
   "execution_count": 0,
   "metadata": {
    "colab": {},
    "colab_type": "code",
    "id": "DEWPadWOqzsF"
   },
   "outputs": [],
   "source": [
    "!pip install -r requirements.txt"
   ]
  },
  {
   "cell_type": "markdown",
   "metadata": {
    "colab_type": "text",
    "id": "Ym8clegBPQ-U"
   },
   "source": [
    "We load the necessary code and start the training process."
   ]
  },
  {
   "cell_type": "markdown",
   "metadata": {
    "colab_type": "text",
    "id": "lBnW-4sZloUe"
   },
   "source": [
    "We download the dataset. If you are working with Google Colab, you have several options to download the dataset in this notebook, see the available options in the LabelDetection documentation."
   ]
  },
  {
   "cell_type": "code",
   "execution_count": 0,
   "metadata": {
    "colab": {},
    "colab_type": "code",
    "id": "Q-brSukHlqe-"
   },
   "outputs": [],
   "source": []
  },
  {
   "cell_type": "code",
   "execution_count": 0,
   "metadata": {
    "colab": {},
    "colab_type": "code",
    "id": "PR3qlP95mAZS"
   },
   "outputs": [],
   "source": [
    "!unzip datasets.zip"
   ]
  },
  {
   "cell_type": "markdown",
   "metadata": {
    "colab_type": "text",
    "id": "snKZVW8EPS1T"
   },
   "source": [
    "We train the model.\n"
   ]
  },
  {
   "cell_type": "code",
   "execution_count": 0,
   "metadata": {
    "colab": {},
    "colab_type": "code",
    "id": "FETPwOYXNKGR"
   },
   "outputs": [],
   "source": [
    "!python3 train.py --backbone resnet50 --gpu 0 --batch-size 4 --epochs 25 --steps 32 pascalCustom datasets/VOCdataset"
   ]
  },
  {
   "cell_type": "markdown",
   "metadata": {
    "colab_type": "text",
    "id": "QSMv7WmwwWqr"
   },
   "source": [
    "The model was evaluated at the end of the previous execution."
   ]
  },
  {
   "cell_type": "code",
   "execution_count": 0,
   "metadata": {
    "colab": {},
    "colab_type": "code",
    "id": "vAzIJ6euw8cx"
   },
   "outputs": [],
   "source": [
    "!mv snapshots/*/resnet50_pascalCustom_25.h5 output.h5"
   ]
  },
  {
   "cell_type": "code",
   "execution_count": 0,
   "metadata": {
    "colab": {},
    "colab_type": "code",
    "id": "RmCPcrEjxCkk"
   },
   "outputs": [],
   "source": [
    "!rm -rf snapshots/*"
   ]
  },
  {
   "cell_type": "markdown",
   "metadata": {
    "colab_type": "text",
    "id": "qMRa2ZhWQKXu"
   },
   "source": [
    "At the end you will have a file called output.h5 that together with the names file can be included in the application to be employed with new images. "
   ]
  },
  {
   "cell_type": "markdown",
   "metadata": {
    "colab_type": "text",
    "id": "MrIfv3N5Ob78"
   },
   "source": [
    "----------------------\n",
    "\n",
    "# Data distillation"
   ]
  },
  {
   "cell_type": "markdown",
   "metadata": {
    "colab_type": "text",
    "id": "PL9uqjaMITw7"
   },
   "source": [
    "We first install the library for ensemble methods."
   ]
  },
  {
   "cell_type": "code",
   "execution_count": 0,
   "metadata": {
    "colab": {},
    "colab_type": "code",
    "id": "NiSCHcV0le_9"
   },
   "outputs": [],
   "source": [
    "!git clone --recurse-submodules https://github.com/ancasag/ensembleObjectDetection.git"
   ]
  },
  {
   "cell_type": "code",
   "execution_count": 0,
   "metadata": {
    "colab": {},
    "colab_type": "code",
    "id": "lMjNb4mKOg6e"
   },
   "outputs": [],
   "source": [
    "cd ensembleObjectDetection/TestTimeAugmentation"
   ]
  },
  {
   "cell_type": "markdown",
   "metadata": {
    "colab_type": "text",
    "id": "N-BUUEloIXBP"
   },
   "source": [
    "We install additional libraries that are required."
   ]
  },
  {
   "cell_type": "code",
   "execution_count": 0,
   "metadata": {
    "colab": {},
    "colab_type": "code",
    "id": "4CKivs9qOht3"
   },
   "outputs": [],
   "source": [
    "!pip install clodsa\n",
    "!pip install mrcnn\n",
    "!pip install keras-retinanet\n",
    "!pip install gluoncv\n",
    "!pip install mxnet"
   ]
  },
  {
   "cell_type": "markdown",
   "metadata": {
    "colab_type": "text",
    "id": "LdKAOsDKIcFm"
   },
   "source": [
    "The following cells apply data distillation."
   ]
  },
  {
   "cell_type": "code",
   "execution_count": 0,
   "metadata": {
    "colab": {},
    "colab_type": "code",
    "id": "VAfN4Ng4Orpr"
   },
   "outputs": [],
   "source": [
    "import testTimeAugmentation\n",
    "import function\n",
    "import os\n",
    "import shutil\n",
    "import argparse\n",
    "import ensembleOptions\n",
    "from mainTTA import tta\n",
    "from imutils import paths"
   ]
  },
  {
   "cell_type": "code",
   "execution_count": 0,
   "metadata": {
    "colab": {},
    "colab_type": "code",
    "id": "E8pXdirAOssr"
   },
   "outputs": [],
   "source": [
    "pathImg = '/content/FSAF/datasets/unlabelled/'"
   ]
  },
  {
   "cell_type": "code",
   "execution_count": 0,
   "metadata": {
    "colab": {},
    "colab_type": "code",
    "id": "n6D27rleOtq_"
   },
   "outputs": [],
   "source": [
    "fsaf = testTimeAugmentation.FSAF('/content/FSAF/output.h5', '/content/FSAF/datasets/VOCdataset/classes.csv')"
   ]
  },
  {
   "cell_type": "code",
   "execution_count": 0,
   "metadata": {
    "colab": {},
    "colab_type": "code",
    "id": "7eKe_aGWPIHS"
   },
   "outputs": [],
   "source": [
    "myTechniques = [ \"histo\",\"hflip\",\"none\"]"
   ]
  },
  {
   "cell_type": "code",
   "execution_count": 0,
   "metadata": {
    "colab": {},
    "colab_type": "code",
    "id": "b548hFOfPJHQ"
   },
   "outputs": [],
   "source": [
    "option = \"affirmative\""
   ]
  },
  {
   "cell_type": "code",
   "execution_count": 0,
   "metadata": {
    "colab": {},
    "colab_type": "code",
    "id": "ET0IE5K_PJm3"
   },
   "outputs": [],
   "source": [
    "tta(fsaf,myTechniques,pathImg,option)"
   ]
  },
  {
   "cell_type": "markdown",
   "metadata": {
    "colab_type": "text",
    "id": "mvGlIbAqImU4"
   },
   "source": [
    "Now, we reorganize the dataset."
   ]
  },
  {
   "cell_type": "code",
   "execution_count": 0,
   "metadata": {
    "colab": {},
    "colab_type": "code",
    "id": "2dVZvL-mTj_S"
   },
   "outputs": [],
   "source": [
    "!ls /content/FSAF/datasets/unlabelled/*.jpg >> /content/FSAF/datasets/VOCdataset/ImageSets/Main/train.txt"
   ]
  },
  {
   "cell_type": "code",
   "execution_count": 0,
   "metadata": {
    "colab": {},
    "colab_type": "code",
    "id": "7PqF1LrxPS7M"
   },
   "outputs": [],
   "source": [
    "!sed -i 's#/content/FSAF/datasets/unlabelled/##g' /content/FSAF/datasets/VOCdataset/ImageSets/Main/train.txt"
   ]
  },
  {
   "cell_type": "code",
   "execution_count": 0,
   "metadata": {
    "colab": {},
    "colab_type": "code",
    "id": "nYWRCFYoPdpY"
   },
   "outputs": [],
   "source": [
    "!sed -i 's#.jpg##g' /content/FSAF/datasets/VOCdataset/ImageSets/Main/train.txt"
   ]
  },
  {
   "cell_type": "code",
   "execution_count": 0,
   "metadata": {
    "colab": {},
    "colab_type": "code",
    "id": "Jjr1emC0Pgnn"
   },
   "outputs": [],
   "source": [
    "!mv /content/FSAF/datasets/unlabelled/*.jpg /content/FSAF/datasets/VOCdataset/JPEGImages/"
   ]
  },
  {
   "cell_type": "code",
   "execution_count": 0,
   "metadata": {
    "colab": {},
    "colab_type": "code",
    "id": "8UDRH8P1PmIO"
   },
   "outputs": [],
   "source": [
    "!mv /content/FSAF/datasets/unlabelled/*.xml /content/FSAF/datasets/VOCdataset/Annotations/"
   ]
  },
  {
   "cell_type": "code",
   "execution_count": 0,
   "metadata": {
    "colab": {},
    "colab_type": "code",
    "id": "TFUG-XDh4DrB"
   },
   "outputs": [],
   "source": [
    "cd /content/FSAF/"
   ]
  },
  {
   "cell_type": "markdown",
   "metadata": {
    "colab_type": "text",
    "id": "rGpGnmRZIpco"
   },
   "source": [
    "Finally, we retrain the model and evaluate its performance. \n"
   ]
  },
  {
   "cell_type": "code",
   "execution_count": 0,
   "metadata": {
    "colab": {},
    "colab_type": "code",
    "id": "Bw77T6FzOxGI"
   },
   "outputs": [],
   "source": [
    "!python3 train.py --backbone resnet50 --gpu 0 --batch-size 4 --epochs 25 --steps 32 pascalCustom datasets/VOCdataset"
   ]
  },
  {
   "cell_type": "code",
   "execution_count": 0,
   "metadata": {
    "colab": {},
    "colab_type": "code",
    "id": "L1J5ALDM2AOO"
   },
   "outputs": [],
   "source": [
    "!mv snapshots/*/resnet50_pascalCustom_25.h5 output.h5"
   ]
  },
  {
   "cell_type": "markdown",
   "metadata": {
    "colab_type": "text",
    "id": "TEgN6PwG3LzU"
   },
   "source": [
    "---------------------------------\n",
    "\n",
    "# Using the model in LabelDetection\n",
    "\n",
    "If you want to use the trained model with LabelDetection, you must download the following files:\n",
    "\n",
    "- FSAF/output.h5\n",
    "- FSAF/datasets/classes.names"
   ]
  }
 ],
 "metadata": {
  "accelerator": "GPU",
  "colab": {
   "collapsed_sections": [],
   "name": "Copia de FSAFExampleDD.ipynb",
   "provenance": []
  },
  "kernelspec": {
   "display_name": "Python 3",
   "language": "python",
   "name": "python3"
  },
  "language_info": {
   "codemirror_mode": {
    "name": "ipython",
    "version": 3
   },
   "file_extension": ".py",
   "mimetype": "text/x-python",
   "name": "python",
   "nbconvert_exporter": "python",
   "pygments_lexer": "ipython3",
   "version": "3.6.8"
  }
 },
 "nbformat": 4,
 "nbformat_minor": 1
}
